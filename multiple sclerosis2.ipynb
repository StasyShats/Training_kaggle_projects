{
 "cells": [
  {
   "cell_type": "code",
   "execution_count": 1,
   "id": "1fa024ab-3d22-4e2f-b30d-2dcb6c4fb43c",
   "metadata": {},
   "outputs": [],
   "source": [
    "import pandas as pd\n",
    "import numpy as np\n",
    "import matplotlib.pyplot as plt\n",
    "from sklearn.preprocessing import MinMaxScaler\n",
    "from sklearn.metrics import accuracy_score\n",
    "from sklearn.linear_model import LogisticRegression\n",
    "from sklearn.model_selection import train_test_split\n",
    "import seaborn as sns\n",
    "from sklearn.metrics import confusion_matrix"
   ]
  },
  {
   "cell_type": "code",
   "execution_count": 3,
   "id": "591f9508-78da-4a55-a61b-eb5dd47d6d8f",
   "metadata": {},
   "outputs": [],
   "source": [
    "data = pd.read_csv('conversion_predictors_of_clinically_isolated_syndrome_to_multiple_sclerosis.csv')"
   ]
  },
  {
   "cell_type": "code",
   "execution_count": 4,
   "id": "f5d902f6-bd48-4e48-834f-521383937328",
   "metadata": {},
   "outputs": [
    {
     "data": {
      "text/html": [
       "<div>\n",
       "<style scoped>\n",
       "    .dataframe tbody tr th:only-of-type {\n",
       "        vertical-align: middle;\n",
       "    }\n",
       "\n",
       "    .dataframe tbody tr th {\n",
       "        vertical-align: top;\n",
       "    }\n",
       "\n",
       "    .dataframe thead th {\n",
       "        text-align: right;\n",
       "    }\n",
       "</style>\n",
       "<table border=\"1\" class=\"dataframe\">\n",
       "  <thead>\n",
       "    <tr style=\"text-align: right;\">\n",
       "      <th></th>\n",
       "      <th>Unnamed: 0</th>\n",
       "      <th>Gender</th>\n",
       "      <th>Age</th>\n",
       "      <th>Schooling</th>\n",
       "      <th>Breastfeeding</th>\n",
       "      <th>Varicella</th>\n",
       "      <th>Initial_Symptom</th>\n",
       "      <th>Mono_or_Polysymptomatic</th>\n",
       "      <th>Oligoclonal_Bands</th>\n",
       "      <th>LLSSEP</th>\n",
       "      <th>ULSSEP</th>\n",
       "      <th>VEP</th>\n",
       "      <th>BAEP</th>\n",
       "      <th>Periventricular_MRI</th>\n",
       "      <th>Cortical_MRI</th>\n",
       "      <th>Infratentorial_MRI</th>\n",
       "      <th>Spinal_Cord_MRI</th>\n",
       "      <th>Initial_EDSS</th>\n",
       "      <th>Final_EDSS</th>\n",
       "      <th>group</th>\n",
       "    </tr>\n",
       "  </thead>\n",
       "  <tbody>\n",
       "    <tr>\n",
       "      <th>0</th>\n",
       "      <td>0</td>\n",
       "      <td>1</td>\n",
       "      <td>34</td>\n",
       "      <td>20.0</td>\n",
       "      <td>1</td>\n",
       "      <td>1</td>\n",
       "      <td>2.0</td>\n",
       "      <td>1</td>\n",
       "      <td>0</td>\n",
       "      <td>1</td>\n",
       "      <td>1</td>\n",
       "      <td>0</td>\n",
       "      <td>0</td>\n",
       "      <td>0</td>\n",
       "      <td>1</td>\n",
       "      <td>0</td>\n",
       "      <td>1</td>\n",
       "      <td>1.0</td>\n",
       "      <td>1.0</td>\n",
       "      <td>1</td>\n",
       "    </tr>\n",
       "    <tr>\n",
       "      <th>1</th>\n",
       "      <td>1</td>\n",
       "      <td>1</td>\n",
       "      <td>61</td>\n",
       "      <td>25.0</td>\n",
       "      <td>3</td>\n",
       "      <td>2</td>\n",
       "      <td>10.0</td>\n",
       "      <td>2</td>\n",
       "      <td>1</td>\n",
       "      <td>1</td>\n",
       "      <td>0</td>\n",
       "      <td>1</td>\n",
       "      <td>0</td>\n",
       "      <td>0</td>\n",
       "      <td>0</td>\n",
       "      <td>0</td>\n",
       "      <td>1</td>\n",
       "      <td>2.0</td>\n",
       "      <td>2.0</td>\n",
       "      <td>1</td>\n",
       "    </tr>\n",
       "    <tr>\n",
       "      <th>2</th>\n",
       "      <td>2</td>\n",
       "      <td>1</td>\n",
       "      <td>22</td>\n",
       "      <td>20.0</td>\n",
       "      <td>3</td>\n",
       "      <td>1</td>\n",
       "      <td>3.0</td>\n",
       "      <td>1</td>\n",
       "      <td>1</td>\n",
       "      <td>0</td>\n",
       "      <td>0</td>\n",
       "      <td>0</td>\n",
       "      <td>0</td>\n",
       "      <td>0</td>\n",
       "      <td>1</td>\n",
       "      <td>0</td>\n",
       "      <td>0</td>\n",
       "      <td>1.0</td>\n",
       "      <td>1.0</td>\n",
       "      <td>1</td>\n",
       "    </tr>\n",
       "    <tr>\n",
       "      <th>3</th>\n",
       "      <td>3</td>\n",
       "      <td>2</td>\n",
       "      <td>41</td>\n",
       "      <td>15.0</td>\n",
       "      <td>1</td>\n",
       "      <td>1</td>\n",
       "      <td>7.0</td>\n",
       "      <td>2</td>\n",
       "      <td>1</td>\n",
       "      <td>0</td>\n",
       "      <td>1</td>\n",
       "      <td>1</td>\n",
       "      <td>0</td>\n",
       "      <td>1</td>\n",
       "      <td>1</td>\n",
       "      <td>0</td>\n",
       "      <td>0</td>\n",
       "      <td>1.0</td>\n",
       "      <td>1.0</td>\n",
       "      <td>1</td>\n",
       "    </tr>\n",
       "    <tr>\n",
       "      <th>4</th>\n",
       "      <td>4</td>\n",
       "      <td>2</td>\n",
       "      <td>34</td>\n",
       "      <td>20.0</td>\n",
       "      <td>2</td>\n",
       "      <td>1</td>\n",
       "      <td>6.0</td>\n",
       "      <td>2</td>\n",
       "      <td>0</td>\n",
       "      <td>1</td>\n",
       "      <td>0</td>\n",
       "      <td>0</td>\n",
       "      <td>0</td>\n",
       "      <td>1</td>\n",
       "      <td>0</td>\n",
       "      <td>0</td>\n",
       "      <td>0</td>\n",
       "      <td>1.0</td>\n",
       "      <td>1.0</td>\n",
       "      <td>1</td>\n",
       "    </tr>\n",
       "  </tbody>\n",
       "</table>\n",
       "</div>"
      ],
      "text/plain": [
       "   Unnamed: 0  Gender  Age  Schooling  Breastfeeding  Varicella  \\\n",
       "0           0       1   34       20.0              1          1   \n",
       "1           1       1   61       25.0              3          2   \n",
       "2           2       1   22       20.0              3          1   \n",
       "3           3       2   41       15.0              1          1   \n",
       "4           4       2   34       20.0              2          1   \n",
       "\n",
       "   Initial_Symptom  Mono_or_Polysymptomatic  Oligoclonal_Bands  LLSSEP  \\\n",
       "0              2.0                        1                  0       1   \n",
       "1             10.0                        2                  1       1   \n",
       "2              3.0                        1                  1       0   \n",
       "3              7.0                        2                  1       0   \n",
       "4              6.0                        2                  0       1   \n",
       "\n",
       "   ULSSEP  VEP  BAEP  Periventricular_MRI  Cortical_MRI  Infratentorial_MRI  \\\n",
       "0       1    0     0                    0             1                   0   \n",
       "1       0    1     0                    0             0                   0   \n",
       "2       0    0     0                    0             1                   0   \n",
       "3       1    1     0                    1             1                   0   \n",
       "4       0    0     0                    1             0                   0   \n",
       "\n",
       "   Spinal_Cord_MRI  Initial_EDSS  Final_EDSS  group  \n",
       "0                1           1.0         1.0      1  \n",
       "1                1           2.0         2.0      1  \n",
       "2                0           1.0         1.0      1  \n",
       "3                0           1.0         1.0      1  \n",
       "4                0           1.0         1.0      1  "
      ]
     },
     "execution_count": 4,
     "metadata": {},
     "output_type": "execute_result"
    }
   ],
   "source": [
    "data.head()"
   ]
  },
  {
   "cell_type": "code",
   "execution_count": 5,
   "id": "f1cf5431-91e5-4296-b286-b585d7730961",
   "metadata": {},
   "outputs": [],
   "source": [
    "data.drop('Unnamed: 0', axis=1, inplace=True)"
   ]
  },
  {
   "cell_type": "code",
   "execution_count": 6,
   "id": "d532443a-fba8-43c1-a6f4-9a962c79c341",
   "metadata": {},
   "outputs": [
    {
     "data": {
      "text/plain": [
       "Index(['Gender', 'Age', 'Schooling', 'Breastfeeding', 'Varicella',\n",
       "       'Initial_Symptom', 'Mono_or_Polysymptomatic', 'Oligoclonal_Bands',\n",
       "       'LLSSEP', 'ULSSEP', 'VEP', 'BAEP', 'Periventricular_MRI',\n",
       "       'Cortical_MRI', 'Infratentorial_MRI', 'Spinal_Cord_MRI', 'Initial_EDSS',\n",
       "       'Final_EDSS', 'group'],\n",
       "      dtype='object')"
      ]
     },
     "execution_count": 6,
     "metadata": {},
     "output_type": "execute_result"
    }
   ],
   "source": [
    "data.columns"
   ]
  },
  {
   "cell_type": "code",
   "execution_count": 7,
   "id": "3e68a227-d7b9-4b84-81f4-809cb3a09f04",
   "metadata": {},
   "outputs": [
    {
     "data": {
      "text/html": [
       "<div>\n",
       "<style scoped>\n",
       "    .dataframe tbody tr th:only-of-type {\n",
       "        vertical-align: middle;\n",
       "    }\n",
       "\n",
       "    .dataframe tbody tr th {\n",
       "        vertical-align: top;\n",
       "    }\n",
       "\n",
       "    .dataframe thead th {\n",
       "        text-align: right;\n",
       "    }\n",
       "</style>\n",
       "<table border=\"1\" class=\"dataframe\">\n",
       "  <thead>\n",
       "    <tr style=\"text-align: right;\">\n",
       "      <th></th>\n",
       "      <th>Gender</th>\n",
       "      <th>Age</th>\n",
       "      <th>Schooling</th>\n",
       "      <th>Breastfeeding</th>\n",
       "      <th>Varicella</th>\n",
       "      <th>Initial_Symptom</th>\n",
       "      <th>Mono_or_Polysymptomatic</th>\n",
       "      <th>Oligoclonal_Bands</th>\n",
       "      <th>LLSSEP</th>\n",
       "      <th>ULSSEP</th>\n",
       "      <th>VEP</th>\n",
       "      <th>BAEP</th>\n",
       "      <th>Periventricular_MRI</th>\n",
       "      <th>Cortical_MRI</th>\n",
       "      <th>Infratentorial_MRI</th>\n",
       "      <th>Spinal_Cord_MRI</th>\n",
       "      <th>Initial_EDSS</th>\n",
       "      <th>Final_EDSS</th>\n",
       "      <th>group</th>\n",
       "    </tr>\n",
       "  </thead>\n",
       "  <tbody>\n",
       "    <tr>\n",
       "      <th>count</th>\n",
       "      <td>273.000000</td>\n",
       "      <td>273.000000</td>\n",
       "      <td>272.000000</td>\n",
       "      <td>273.000000</td>\n",
       "      <td>273.000000</td>\n",
       "      <td>272.000000</td>\n",
       "      <td>273.000000</td>\n",
       "      <td>273.000000</td>\n",
       "      <td>273.000000</td>\n",
       "      <td>273.000000</td>\n",
       "      <td>273.000000</td>\n",
       "      <td>273.000000</td>\n",
       "      <td>273.000000</td>\n",
       "      <td>273.000000</td>\n",
       "      <td>273.000000</td>\n",
       "      <td>273.000000</td>\n",
       "      <td>125.000000</td>\n",
       "      <td>125.00000</td>\n",
       "      <td>273.000000</td>\n",
       "    </tr>\n",
       "    <tr>\n",
       "      <th>mean</th>\n",
       "      <td>1.615385</td>\n",
       "      <td>34.062271</td>\n",
       "      <td>15.176471</td>\n",
       "      <td>1.831502</td>\n",
       "      <td>1.710623</td>\n",
       "      <td>6.430147</td>\n",
       "      <td>1.725275</td>\n",
       "      <td>0.358974</td>\n",
       "      <td>0.424908</td>\n",
       "      <td>0.369963</td>\n",
       "      <td>0.307692</td>\n",
       "      <td>0.065934</td>\n",
       "      <td>0.505495</td>\n",
       "      <td>0.432234</td>\n",
       "      <td>0.293040</td>\n",
       "      <td>0.315018</td>\n",
       "      <td>1.360000</td>\n",
       "      <td>1.44800</td>\n",
       "      <td>1.542125</td>\n",
       "    </tr>\n",
       "    <tr>\n",
       "      <th>std</th>\n",
       "      <td>0.487398</td>\n",
       "      <td>11.114369</td>\n",
       "      <td>4.244175</td>\n",
       "      <td>0.874998</td>\n",
       "      <td>0.732991</td>\n",
       "      <td>4.222009</td>\n",
       "      <td>0.494066</td>\n",
       "      <td>0.558426</td>\n",
       "      <td>0.495237</td>\n",
       "      <td>0.483681</td>\n",
       "      <td>0.462386</td>\n",
       "      <td>0.248623</td>\n",
       "      <td>0.500888</td>\n",
       "      <td>0.496296</td>\n",
       "      <td>0.455993</td>\n",
       "      <td>0.465376</td>\n",
       "      <td>0.587504</td>\n",
       "      <td>0.65323</td>\n",
       "      <td>0.499137</td>\n",
       "    </tr>\n",
       "    <tr>\n",
       "      <th>min</th>\n",
       "      <td>1.000000</td>\n",
       "      <td>15.000000</td>\n",
       "      <td>0.000000</td>\n",
       "      <td>1.000000</td>\n",
       "      <td>1.000000</td>\n",
       "      <td>1.000000</td>\n",
       "      <td>1.000000</td>\n",
       "      <td>0.000000</td>\n",
       "      <td>0.000000</td>\n",
       "      <td>0.000000</td>\n",
       "      <td>0.000000</td>\n",
       "      <td>0.000000</td>\n",
       "      <td>0.000000</td>\n",
       "      <td>0.000000</td>\n",
       "      <td>0.000000</td>\n",
       "      <td>0.000000</td>\n",
       "      <td>1.000000</td>\n",
       "      <td>1.00000</td>\n",
       "      <td>1.000000</td>\n",
       "    </tr>\n",
       "    <tr>\n",
       "      <th>25%</th>\n",
       "      <td>1.000000</td>\n",
       "      <td>25.000000</td>\n",
       "      <td>12.000000</td>\n",
       "      <td>1.000000</td>\n",
       "      <td>1.000000</td>\n",
       "      <td>3.000000</td>\n",
       "      <td>1.000000</td>\n",
       "      <td>0.000000</td>\n",
       "      <td>0.000000</td>\n",
       "      <td>0.000000</td>\n",
       "      <td>0.000000</td>\n",
       "      <td>0.000000</td>\n",
       "      <td>0.000000</td>\n",
       "      <td>0.000000</td>\n",
       "      <td>0.000000</td>\n",
       "      <td>0.000000</td>\n",
       "      <td>1.000000</td>\n",
       "      <td>1.00000</td>\n",
       "      <td>1.000000</td>\n",
       "    </tr>\n",
       "    <tr>\n",
       "      <th>50%</th>\n",
       "      <td>2.000000</td>\n",
       "      <td>33.000000</td>\n",
       "      <td>15.000000</td>\n",
       "      <td>2.000000</td>\n",
       "      <td>2.000000</td>\n",
       "      <td>6.000000</td>\n",
       "      <td>2.000000</td>\n",
       "      <td>0.000000</td>\n",
       "      <td>0.000000</td>\n",
       "      <td>0.000000</td>\n",
       "      <td>0.000000</td>\n",
       "      <td>0.000000</td>\n",
       "      <td>1.000000</td>\n",
       "      <td>0.000000</td>\n",
       "      <td>0.000000</td>\n",
       "      <td>0.000000</td>\n",
       "      <td>1.000000</td>\n",
       "      <td>1.00000</td>\n",
       "      <td>2.000000</td>\n",
       "    </tr>\n",
       "    <tr>\n",
       "      <th>75%</th>\n",
       "      <td>2.000000</td>\n",
       "      <td>40.000000</td>\n",
       "      <td>20.000000</td>\n",
       "      <td>3.000000</td>\n",
       "      <td>2.000000</td>\n",
       "      <td>9.000000</td>\n",
       "      <td>2.000000</td>\n",
       "      <td>1.000000</td>\n",
       "      <td>1.000000</td>\n",
       "      <td>1.000000</td>\n",
       "      <td>1.000000</td>\n",
       "      <td>0.000000</td>\n",
       "      <td>1.000000</td>\n",
       "      <td>1.000000</td>\n",
       "      <td>1.000000</td>\n",
       "      <td>1.000000</td>\n",
       "      <td>2.000000</td>\n",
       "      <td>2.00000</td>\n",
       "      <td>2.000000</td>\n",
       "    </tr>\n",
       "    <tr>\n",
       "      <th>max</th>\n",
       "      <td>2.000000</td>\n",
       "      <td>77.000000</td>\n",
       "      <td>25.000000</td>\n",
       "      <td>3.000000</td>\n",
       "      <td>3.000000</td>\n",
       "      <td>15.000000</td>\n",
       "      <td>3.000000</td>\n",
       "      <td>2.000000</td>\n",
       "      <td>1.000000</td>\n",
       "      <td>1.000000</td>\n",
       "      <td>1.000000</td>\n",
       "      <td>1.000000</td>\n",
       "      <td>1.000000</td>\n",
       "      <td>1.000000</td>\n",
       "      <td>1.000000</td>\n",
       "      <td>1.000000</td>\n",
       "      <td>3.000000</td>\n",
       "      <td>3.00000</td>\n",
       "      <td>2.000000</td>\n",
       "    </tr>\n",
       "  </tbody>\n",
       "</table>\n",
       "</div>"
      ],
      "text/plain": [
       "           Gender         Age   Schooling  Breastfeeding   Varicella  \\\n",
       "count  273.000000  273.000000  272.000000     273.000000  273.000000   \n",
       "mean     1.615385   34.062271   15.176471       1.831502    1.710623   \n",
       "std      0.487398   11.114369    4.244175       0.874998    0.732991   \n",
       "min      1.000000   15.000000    0.000000       1.000000    1.000000   \n",
       "25%      1.000000   25.000000   12.000000       1.000000    1.000000   \n",
       "50%      2.000000   33.000000   15.000000       2.000000    2.000000   \n",
       "75%      2.000000   40.000000   20.000000       3.000000    2.000000   \n",
       "max      2.000000   77.000000   25.000000       3.000000    3.000000   \n",
       "\n",
       "       Initial_Symptom  Mono_or_Polysymptomatic  Oligoclonal_Bands  \\\n",
       "count       272.000000               273.000000         273.000000   \n",
       "mean          6.430147                 1.725275           0.358974   \n",
       "std           4.222009                 0.494066           0.558426   \n",
       "min           1.000000                 1.000000           0.000000   \n",
       "25%           3.000000                 1.000000           0.000000   \n",
       "50%           6.000000                 2.000000           0.000000   \n",
       "75%           9.000000                 2.000000           1.000000   \n",
       "max          15.000000                 3.000000           2.000000   \n",
       "\n",
       "           LLSSEP      ULSSEP         VEP        BAEP  Periventricular_MRI  \\\n",
       "count  273.000000  273.000000  273.000000  273.000000           273.000000   \n",
       "mean     0.424908    0.369963    0.307692    0.065934             0.505495   \n",
       "std      0.495237    0.483681    0.462386    0.248623             0.500888   \n",
       "min      0.000000    0.000000    0.000000    0.000000             0.000000   \n",
       "25%      0.000000    0.000000    0.000000    0.000000             0.000000   \n",
       "50%      0.000000    0.000000    0.000000    0.000000             1.000000   \n",
       "75%      1.000000    1.000000    1.000000    0.000000             1.000000   \n",
       "max      1.000000    1.000000    1.000000    1.000000             1.000000   \n",
       "\n",
       "       Cortical_MRI  Infratentorial_MRI  Spinal_Cord_MRI  Initial_EDSS  \\\n",
       "count    273.000000          273.000000       273.000000    125.000000   \n",
       "mean       0.432234            0.293040         0.315018      1.360000   \n",
       "std        0.496296            0.455993         0.465376      0.587504   \n",
       "min        0.000000            0.000000         0.000000      1.000000   \n",
       "25%        0.000000            0.000000         0.000000      1.000000   \n",
       "50%        0.000000            0.000000         0.000000      1.000000   \n",
       "75%        1.000000            1.000000         1.000000      2.000000   \n",
       "max        1.000000            1.000000         1.000000      3.000000   \n",
       "\n",
       "       Final_EDSS       group  \n",
       "count   125.00000  273.000000  \n",
       "mean      1.44800    1.542125  \n",
       "std       0.65323    0.499137  \n",
       "min       1.00000    1.000000  \n",
       "25%       1.00000    1.000000  \n",
       "50%       1.00000    2.000000  \n",
       "75%       2.00000    2.000000  \n",
       "max       3.00000    2.000000  "
      ]
     },
     "execution_count": 7,
     "metadata": {},
     "output_type": "execute_result"
    }
   ],
   "source": [
    "data.describe()"
   ]
  },
  {
   "cell_type": "code",
   "execution_count": 8,
   "id": "bd92b53a-192e-4d98-9622-36b1861fc553",
   "metadata": {},
   "outputs": [
    {
     "name": "stdout",
     "output_type": "stream",
     "text": [
      "<class 'pandas.core.frame.DataFrame'>\n",
      "RangeIndex: 273 entries, 0 to 272\n",
      "Data columns (total 19 columns):\n",
      " #   Column                   Non-Null Count  Dtype  \n",
      "---  ------                   --------------  -----  \n",
      " 0   Gender                   273 non-null    int64  \n",
      " 1   Age                      273 non-null    int64  \n",
      " 2   Schooling                272 non-null    float64\n",
      " 3   Breastfeeding            273 non-null    int64  \n",
      " 4   Varicella                273 non-null    int64  \n",
      " 5   Initial_Symptom          272 non-null    float64\n",
      " 6   Mono_or_Polysymptomatic  273 non-null    int64  \n",
      " 7   Oligoclonal_Bands        273 non-null    int64  \n",
      " 8   LLSSEP                   273 non-null    int64  \n",
      " 9   ULSSEP                   273 non-null    int64  \n",
      " 10  VEP                      273 non-null    int64  \n",
      " 11  BAEP                     273 non-null    int64  \n",
      " 12  Periventricular_MRI      273 non-null    int64  \n",
      " 13  Cortical_MRI             273 non-null    int64  \n",
      " 14  Infratentorial_MRI       273 non-null    int64  \n",
      " 15  Spinal_Cord_MRI          273 non-null    int64  \n",
      " 16  Initial_EDSS             125 non-null    float64\n",
      " 17  Final_EDSS               125 non-null    float64\n",
      " 18  group                    273 non-null    int64  \n",
      "dtypes: float64(4), int64(15)\n",
      "memory usage: 40.6 KB\n"
     ]
    }
   ],
   "source": [
    "data.info()"
   ]
  },
  {
   "cell_type": "code",
   "execution_count": 9,
   "id": "8265c4b4-283c-42b3-b268-c48efb119154",
   "metadata": {},
   "outputs": [],
   "source": [
    "data = data[data['Initial_Symptom'].isna()==False]\n",
    "data = data[data['Schooling'].isna()==False]"
   ]
  },
  {
   "cell_type": "code",
   "execution_count": 10,
   "id": "9813cae3-4e95-42ae-967e-95dcb6cd0d29",
   "metadata": {},
   "outputs": [
    {
     "data": {
      "text/plain": [
       "1.0    87\n",
       "2.0    31\n",
       "3.0     7\n",
       "Name: Initial_EDSS, dtype: int64"
      ]
     },
     "execution_count": 10,
     "metadata": {},
     "output_type": "execute_result"
    }
   ],
   "source": [
    "data.Initial_EDSS.value_counts()"
   ]
  },
  {
   "cell_type": "code",
   "execution_count": 11,
   "id": "a6889afb-51ad-4ca3-a4ca-433b517d6eea",
   "metadata": {},
   "outputs": [
    {
     "data": {
      "text/plain": [
       "1.0    80\n",
       "2.0    34\n",
       "3.0    11\n",
       "Name: Final_EDSS, dtype: int64"
      ]
     },
     "execution_count": 11,
     "metadata": {},
     "output_type": "execute_result"
    }
   ],
   "source": [
    "data.Final_EDSS.value_counts()"
   ]
  },
  {
   "cell_type": "code",
   "execution_count": 12,
   "id": "4a026fc4-ec63-40ea-aaec-c99b866732ab",
   "metadata": {},
   "outputs": [],
   "source": [
    "data['Initial_EDSS'].fillna(method='ffill', inplace=True)\n",
    "data['Final_EDSS'].fillna(method='ffill', inplace=True)"
   ]
  },
  {
   "cell_type": "code",
   "execution_count": 13,
   "id": "efab70ad-8a4b-4336-a8a0-fc0492074fa2",
   "metadata": {},
   "outputs": [
    {
     "data": {
      "text/plain": [
       "(271, 19)"
      ]
     },
     "execution_count": 13,
     "metadata": {},
     "output_type": "execute_result"
    }
   ],
   "source": [
    "data.shape"
   ]
  },
  {
   "cell_type": "code",
   "execution_count": 14,
   "id": "14a6e36b-ad68-4877-a8ed-99b0c1774e3e",
   "metadata": {},
   "outputs": [],
   "source": [
    "scaler= MinMaxScaler()\n",
    "data['Initial_Symptom']= scaler.fit_transform(np.array(data.Initial_Symptom).reshape(-1,1))"
   ]
  },
  {
   "cell_type": "code",
   "execution_count": 15,
   "id": "174dc4fa-c7db-4580-8050-4d41383fe3f9",
   "metadata": {},
   "outputs": [
    {
     "data": {
      "text/html": [
       "<div>\n",
       "<style scoped>\n",
       "    .dataframe tbody tr th:only-of-type {\n",
       "        vertical-align: middle;\n",
       "    }\n",
       "\n",
       "    .dataframe tbody tr th {\n",
       "        vertical-align: top;\n",
       "    }\n",
       "\n",
       "    .dataframe thead th {\n",
       "        text-align: right;\n",
       "    }\n",
       "</style>\n",
       "<table border=\"1\" class=\"dataframe\">\n",
       "  <thead>\n",
       "    <tr style=\"text-align: right;\">\n",
       "      <th></th>\n",
       "      <th>Gender</th>\n",
       "      <th>Age</th>\n",
       "      <th>Schooling</th>\n",
       "      <th>Breastfeeding</th>\n",
       "      <th>Varicella</th>\n",
       "      <th>Initial_Symptom</th>\n",
       "      <th>Mono_or_Polysymptomatic</th>\n",
       "      <th>Oligoclonal_Bands</th>\n",
       "      <th>LLSSEP</th>\n",
       "      <th>ULSSEP</th>\n",
       "      <th>VEP</th>\n",
       "      <th>BAEP</th>\n",
       "      <th>Periventricular_MRI</th>\n",
       "      <th>Cortical_MRI</th>\n",
       "      <th>Infratentorial_MRI</th>\n",
       "      <th>Spinal_Cord_MRI</th>\n",
       "      <th>Initial_EDSS</th>\n",
       "      <th>Final_EDSS</th>\n",
       "      <th>group</th>\n",
       "    </tr>\n",
       "  </thead>\n",
       "  <tbody>\n",
       "    <tr>\n",
       "      <th>0</th>\n",
       "      <td>1</td>\n",
       "      <td>34</td>\n",
       "      <td>20.0</td>\n",
       "      <td>1</td>\n",
       "      <td>1</td>\n",
       "      <td>0.071429</td>\n",
       "      <td>1</td>\n",
       "      <td>0</td>\n",
       "      <td>1</td>\n",
       "      <td>1</td>\n",
       "      <td>0</td>\n",
       "      <td>0</td>\n",
       "      <td>0</td>\n",
       "      <td>1</td>\n",
       "      <td>0</td>\n",
       "      <td>1</td>\n",
       "      <td>1.0</td>\n",
       "      <td>1.0</td>\n",
       "      <td>1</td>\n",
       "    </tr>\n",
       "    <tr>\n",
       "      <th>1</th>\n",
       "      <td>1</td>\n",
       "      <td>61</td>\n",
       "      <td>25.0</td>\n",
       "      <td>3</td>\n",
       "      <td>2</td>\n",
       "      <td>0.642857</td>\n",
       "      <td>2</td>\n",
       "      <td>1</td>\n",
       "      <td>1</td>\n",
       "      <td>0</td>\n",
       "      <td>1</td>\n",
       "      <td>0</td>\n",
       "      <td>0</td>\n",
       "      <td>0</td>\n",
       "      <td>0</td>\n",
       "      <td>1</td>\n",
       "      <td>2.0</td>\n",
       "      <td>2.0</td>\n",
       "      <td>1</td>\n",
       "    </tr>\n",
       "    <tr>\n",
       "      <th>2</th>\n",
       "      <td>1</td>\n",
       "      <td>22</td>\n",
       "      <td>20.0</td>\n",
       "      <td>3</td>\n",
       "      <td>1</td>\n",
       "      <td>0.142857</td>\n",
       "      <td>1</td>\n",
       "      <td>1</td>\n",
       "      <td>0</td>\n",
       "      <td>0</td>\n",
       "      <td>0</td>\n",
       "      <td>0</td>\n",
       "      <td>0</td>\n",
       "      <td>1</td>\n",
       "      <td>0</td>\n",
       "      <td>0</td>\n",
       "      <td>1.0</td>\n",
       "      <td>1.0</td>\n",
       "      <td>1</td>\n",
       "    </tr>\n",
       "    <tr>\n",
       "      <th>3</th>\n",
       "      <td>2</td>\n",
       "      <td>41</td>\n",
       "      <td>15.0</td>\n",
       "      <td>1</td>\n",
       "      <td>1</td>\n",
       "      <td>0.428571</td>\n",
       "      <td>2</td>\n",
       "      <td>1</td>\n",
       "      <td>0</td>\n",
       "      <td>1</td>\n",
       "      <td>1</td>\n",
       "      <td>0</td>\n",
       "      <td>1</td>\n",
       "      <td>1</td>\n",
       "      <td>0</td>\n",
       "      <td>0</td>\n",
       "      <td>1.0</td>\n",
       "      <td>1.0</td>\n",
       "      <td>1</td>\n",
       "    </tr>\n",
       "    <tr>\n",
       "      <th>4</th>\n",
       "      <td>2</td>\n",
       "      <td>34</td>\n",
       "      <td>20.0</td>\n",
       "      <td>2</td>\n",
       "      <td>1</td>\n",
       "      <td>0.357143</td>\n",
       "      <td>2</td>\n",
       "      <td>0</td>\n",
       "      <td>1</td>\n",
       "      <td>0</td>\n",
       "      <td>0</td>\n",
       "      <td>0</td>\n",
       "      <td>1</td>\n",
       "      <td>0</td>\n",
       "      <td>0</td>\n",
       "      <td>0</td>\n",
       "      <td>1.0</td>\n",
       "      <td>1.0</td>\n",
       "      <td>1</td>\n",
       "    </tr>\n",
       "  </tbody>\n",
       "</table>\n",
       "</div>"
      ],
      "text/plain": [
       "   Gender  Age  Schooling  Breastfeeding  Varicella  Initial_Symptom  \\\n",
       "0       1   34       20.0              1          1         0.071429   \n",
       "1       1   61       25.0              3          2         0.642857   \n",
       "2       1   22       20.0              3          1         0.142857   \n",
       "3       2   41       15.0              1          1         0.428571   \n",
       "4       2   34       20.0              2          1         0.357143   \n",
       "\n",
       "   Mono_or_Polysymptomatic  Oligoclonal_Bands  LLSSEP  ULSSEP  VEP  BAEP  \\\n",
       "0                        1                  0       1       1    0     0   \n",
       "1                        2                  1       1       0    1     0   \n",
       "2                        1                  1       0       0    0     0   \n",
       "3                        2                  1       0       1    1     0   \n",
       "4                        2                  0       1       0    0     0   \n",
       "\n",
       "   Periventricular_MRI  Cortical_MRI  Infratentorial_MRI  Spinal_Cord_MRI  \\\n",
       "0                    0             1                   0                1   \n",
       "1                    0             0                   0                1   \n",
       "2                    0             1                   0                0   \n",
       "3                    1             1                   0                0   \n",
       "4                    1             0                   0                0   \n",
       "\n",
       "   Initial_EDSS  Final_EDSS  group  \n",
       "0           1.0         1.0      1  \n",
       "1           2.0         2.0      1  \n",
       "2           1.0         1.0      1  \n",
       "3           1.0         1.0      1  \n",
       "4           1.0         1.0      1  "
      ]
     },
     "execution_count": 15,
     "metadata": {},
     "output_type": "execute_result"
    }
   ],
   "source": [
    "data.head()"
   ]
  },
  {
   "cell_type": "code",
   "execution_count": 16,
   "id": "c0880388-3822-45d9-9ad5-6fffdbec41e9",
   "metadata": {},
   "outputs": [],
   "source": [
    "data['Initial_Symptom'] = data['Initial_Symptom'].round(2)"
   ]
  },
  {
   "cell_type": "code",
   "execution_count": 17,
   "id": "4908dcd1-94d8-44fc-82c3-78a1afa3ca2f",
   "metadata": {},
   "outputs": [],
   "source": [
    "X_train, X_test, y_train, y_test = train_test_split(data.drop('group', axis=1), data.group, test_size=0.2, random_state=42)"
   ]
  },
  {
   "cell_type": "code",
   "execution_count": 18,
   "id": "5f4c1648-e22c-43c0-a378-3d46ab926b12",
   "metadata": {},
   "outputs": [],
   "source": [
    "logreg= LogisticRegression()"
   ]
  },
  {
   "cell_type": "code",
   "execution_count": 19,
   "id": "a7081414-f834-4604-bd63-60e2ab3c74ac",
   "metadata": {},
   "outputs": [
    {
     "name": "stderr",
     "output_type": "stream",
     "text": [
      "/Users/anastasiiashaparets/opt/anaconda3/lib/python3.9/site-packages/sklearn/linear_model/_logistic.py:814: ConvergenceWarning: lbfgs failed to converge (status=1):\n",
      "STOP: TOTAL NO. of ITERATIONS REACHED LIMIT.\n",
      "\n",
      "Increase the number of iterations (max_iter) or scale the data as shown in:\n",
      "    https://scikit-learn.org/stable/modules/preprocessing.html\n",
      "Please also refer to the documentation for alternative solver options:\n",
      "    https://scikit-learn.org/stable/modules/linear_model.html#logistic-regression\n",
      "  n_iter_i = _check_optimize_result(\n"
     ]
    },
    {
     "data": {
      "text/plain": [
       "LogisticRegression()"
      ]
     },
     "execution_count": 19,
     "metadata": {},
     "output_type": "execute_result"
    }
   ],
   "source": [
    "logreg.fit(X_train, y_train)"
   ]
  },
  {
   "cell_type": "code",
   "execution_count": 20,
   "id": "9bbf0afc-528a-4f1c-b54a-903b109b7831",
   "metadata": {},
   "outputs": [
    {
     "name": "stdout",
     "output_type": "stream",
     "text": [
      "Accuracy: 0.8181818181818182\n"
     ]
    }
   ],
   "source": [
    "y_pred = logreg.predict(X_test)\n",
    "\n",
    "accuracy = accuracy_score(y_test, y_pred)\n",
    "print('Accuracy:', accuracy)"
   ]
  },
  {
   "cell_type": "code",
   "execution_count": 21,
   "id": "d85d1c98-5bdc-4e9c-ba1b-2ee04b4a6da1",
   "metadata": {},
   "outputs": [
    {
     "data": {
      "text/plain": [
       "Text(50.722222222222214, 0.5, 'True Labels')"
      ]
     },
     "execution_count": 21,
     "metadata": {},
     "output_type": "execute_result"
    },
    {
     "data": {
      "image/png": "[encoded data removed]",
      "text/plain": [
       "<Figure size 640x480 with 2 Axes>"
      ]
     },
     "metadata": {},
     "output_type": "display_data"
    }
   ],
   "source": [
    "cm = confusion_matrix(y_test, y_pred)\n",
    "sns.heatmap(cm, annot=True, fmt='d', cmap='Blues')\n",
    "plt.xlabel('Predicted Labels')\n",
    "plt.ylabel('True Labels')"
   ]
  },
  {
   "cell_type": "code",
   "execution_count": 22,
   "id": "8c521c2d-39cf-4433-9094-cdbfebe35dfc",
   "metadata": {},
   "outputs": [],
   "source": [
    "from sklearn.model_selection import train_test_split"
   ]
  },
  {
   "cell_type": "code",
   "execution_count": 24,
   "id": "7f41404d-d746-4270-b762-470377a742e8",
   "metadata": {},
   "outputs": [],
   "source": [
    "X=data.drop(['group'], axis=1)\n",
    "y=(data['group'])"
   ]
  },
  {
   "cell_type": "code",
   "execution_count": 25,
   "id": "a8fb038b-e1bf-4afd-9ca2-392d8d9bf006",
   "metadata": {},
   "outputs": [],
   "source": [
    "X_train, X_test, y_train, y_test = train_test_split(X, y, test_size=0.22, random_state=23, stratify=y)"
   ]
  },
  {
   "cell_type": "code",
   "execution_count": 26,
   "id": "8e691da5-6af7-4cfd-aa8c-51ecfca3cb1a",
   "metadata": {},
   "outputs": [
    {
     "name": "stderr",
     "output_type": "stream",
     "text": [
      "/Users/anastasiiashaparets/opt/anaconda3/lib/python3.9/site-packages/sklearn/linear_model/_logistic.py:814: ConvergenceWarning: lbfgs failed to converge (status=1):\n",
      "STOP: TOTAL NO. of ITERATIONS REACHED LIMIT.\n",
      "\n",
      "Increase the number of iterations (max_iter) or scale the data as shown in:\n",
      "    https://scikit-learn.org/stable/modules/preprocessing.html\n",
      "Please also refer to the documentation for alternative solver options:\n",
      "    https://scikit-learn.org/stable/modules/linear_model.html#logistic-regression\n",
      "  n_iter_i = _check_optimize_result(\n"
     ]
    }
   ],
   "source": [
    "model = LogisticRegression()\n",
    "model.fit(X_train, y_train)\n",
    "lr_score = model.score(X_test, y_test)"
   ]
  },
  {
   "cell_type": "code",
   "execution_count": 29,
   "id": "fe0c840c-d6a4-4ebc-8e50-1bc7a39352be",
   "metadata": {},
   "outputs": [],
   "source": [
    "from sklearn.svm import SVC\n",
    "\n",
    "model= SVC(kernel='linear')\n",
    "model.fit(X_train, y_train)\n",
    "svc_score = model.score(X_test, y_test)"
   ]
  },
  {
   "cell_type": "code",
   "execution_count": 30,
   "id": "44dbb242-d811-40b5-ade6-f17c70ce4007",
   "metadata": {},
   "outputs": [],
   "source": [
    "from sklearn.naive_bayes import BernoulliNB\n",
    "model = BernoulliNB()\n",
    "model.fit(X_train, y_train)\n",
    "ber_score = model.score(X_test, y_test)"
   ]
  },
  {
   "cell_type": "code",
   "execution_count": 31,
   "id": "d52d4d28-345a-41c9-9e27-334ee763030e",
   "metadata": {},
   "outputs": [],
   "source": [
    "from sklearn.ensemble import RandomForestClassifier\n",
    "model= RandomForestClassifier(n_estimators=175, random_state=23)\n",
    "model.fit(X_train, y_train)\n",
    "rf_score = model.score(X_test, y_test)"
   ]
  },
  {
   "cell_type": "code",
   "execution_count": 32,
   "id": "4a14ce7b-1064-4f17-b32f-0455f5dfbc0c",
   "metadata": {},
   "outputs": [
    {
     "data": {
      "text/html": [
       "<div>\n",
       "<style scoped>\n",
       "    .dataframe tbody tr th:only-of-type {\n",
       "        vertical-align: middle;\n",
       "    }\n",
       "\n",
       "    .dataframe tbody tr th {\n",
       "        vertical-align: top;\n",
       "    }\n",
       "\n",
       "    .dataframe thead th {\n",
       "        text-align: right;\n",
       "    }\n",
       "</style>\n",
       "<table border=\"1\" class=\"dataframe\">\n",
       "  <thead>\n",
       "    <tr style=\"text-align: right;\">\n",
       "      <th></th>\n",
       "      <th>Model_Name</th>\n",
       "      <th>Score</th>\n",
       "    </tr>\n",
       "  </thead>\n",
       "  <tbody>\n",
       "    <tr>\n",
       "      <th>0</th>\n",
       "      <td>Logistic Regression</td>\n",
       "      <td>0.866667</td>\n",
       "    </tr>\n",
       "    <tr>\n",
       "      <th>1</th>\n",
       "      <td>SVC</td>\n",
       "      <td>0.883333</td>\n",
       "    </tr>\n",
       "    <tr>\n",
       "      <th>2</th>\n",
       "      <td>Bernoulli NaiveBayes</td>\n",
       "      <td>0.800000</td>\n",
       "    </tr>\n",
       "    <tr>\n",
       "      <th>3</th>\n",
       "      <td>Random Forest</td>\n",
       "      <td>0.883333</td>\n",
       "    </tr>\n",
       "  </tbody>\n",
       "</table>\n",
       "</div>"
      ],
      "text/plain": [
       "             Model_Name     Score\n",
       "0   Logistic Regression  0.866667\n",
       "1                   SVC  0.883333\n",
       "2  Bernoulli NaiveBayes  0.800000\n",
       "3         Random Forest  0.883333"
      ]
     },
     "execution_count": 32,
     "metadata": {},
     "output_type": "execute_result"
    }
   ],
   "source": [
    "score = {\n",
    "    'Model_Name' :['Logistic Regression', 'SVC', 'Bernoulli NaiveBayes', 'Random Forest'], \n",
    "    'Score': [lr_score, svc_score, ber_score, rf_score]\n",
    "}\n",
    "score_data= pd.DataFrame(score)\n",
    "score_data"
   ]
  },
  {
   "cell_type": "code",
   "execution_count": 34,
   "id": "ac99a0cc-5ff4-48b6-88ee-0afe7b5a7b52",
   "metadata": {},
   "outputs": [
    {
     "data": {
      "image/png": "[encoded data removed]",
      "text/plain": [
       "<Figure size 800x500 with 1 Axes>"
      ]
     },
     "metadata": {},
     "output_type": "display_data"
    }
   ],
   "source": [
    "import matplotlib.pyplot as plt\n",
    "\n",
    "fig= plt.figure(figsize=(8,5))\n",
    "barplot= plt.bar(score_data.Model_Name, score_data.Score, color=['red', 'yellow', 'pink', 'cyan'], edgecolor='black', width=0.25)\n",
    "plt.bar_label(barplot, labels=round(score_data.Score,2), label_type='center')\n",
    "plt.xlabel('Model Name')\n",
    "plt.ylabel('Score')\n",
    "plt.title('MODEL AND THEIR SCORES')\n",
    "plt.show()"
   ]
  },
  {
   "cell_type": "code",
   "execution_count": null,
   "id": "1293d74b-5ea5-482d-ae19-11eee79e4583",
   "metadata": {},
   "outputs": [],
   "source": []
  }
 ],
 "metadata": {
  "kernelspec": {
   "display_name": "Python 3 (ipykernel)",
   "language": "python",
   "name": "python3"
  },
  "language_info": {
   "codemirror_mode": {
    "name": "ipython",
    "version": 3
   },
   "file_extension": ".py",
   "mimetype": "text/x-python",
   "name": "python",
   "nbconvert_exporter": "python",
   "pygments_lexer": "ipython3",
   "version": "3.9.13"
  }
 },
 "nbformat": 4,
 "nbformat_minor": 5
}
